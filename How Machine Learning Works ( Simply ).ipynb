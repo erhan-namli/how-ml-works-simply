{
 "cells": [
  {
   "cell_type": "markdown",
   "id": "1554ec3e",
   "metadata": {},
   "source": [
    "# <center>How Machine Learning Works Simply</center>\n",
    "#### <center>Author : Erhan Namlı</center>"
   ]
  },
  {
   "cell_type": "markdown",
   "id": "e3dedcdb",
   "metadata": {},
   "source": [
    "# <span style=\"text-align:center\">Introduction</span>"
   ]
  },
  {
   "cell_type": "markdown",
   "id": "b0c4fbe6",
   "metadata": {},
   "source": [
    "Greetings, I created this document to show how you can use ML easily about any topic."
   ]
  },
  {
   "cell_type": "markdown",
   "id": "a0a12546",
   "metadata": {},
   "source": [
    "# Setup"
   ]
  },
  {
   "cell_type": "code",
   "execution_count": 56,
   "id": "c37c0850",
   "metadata": {},
   "outputs": [],
   "source": [
    "import numpy as np"
   ]
  },
  {
   "cell_type": "code",
   "execution_count": 57,
   "id": "e71edd28",
   "metadata": {},
   "outputs": [],
   "source": [
    "import pandas as pd"
   ]
  },
  {
   "cell_type": "code",
   "execution_count": 58,
   "id": "32fdef83",
   "metadata": {},
   "outputs": [],
   "source": [
    "df = pd.DataFrame()"
   ]
  },
  {
   "cell_type": "markdown",
   "id": "321d14cb",
   "metadata": {},
   "source": [
    "Let's create an original dataset, but this dataset must be sensible because of the health of our model."
   ]
  },
  {
   "cell_type": "markdown",
   "id": "22e80e5f",
   "metadata": {},
   "source": [
    "## Creating a random dataset"
   ]
  },
  {
   "cell_type": "markdown",
   "id": "909ed58d",
   "metadata": {},
   "source": [
    "<img src=\"equation.PNG\">"
   ]
  },
  {
   "cell_type": "markdown",
   "id": "34970469",
   "metadata": {},
   "source": [
    "x = 10k, y=5k, z=1k\n",
    "\n",
    "The purpose of our model is to estimate these coefficients and then produce the appropriate result for the parameters given to it."
   ]
  },
  {
   "cell_type": "code",
   "execution_count": 78,
   "id": "ad4fcc48",
   "metadata": {},
   "outputs": [],
   "source": [
    "x = np.random.randint(1,101, 1250)\n",
    "y = np.random.randint(1,101, 1250)\n",
    "z = np.random.randint(1,101, 1250)\n",
    "result=[]"
   ]
  },
  {
   "cell_type": "code",
   "execution_count": 79,
   "id": "1aa6eb51",
   "metadata": {},
   "outputs": [],
   "source": [
    "for i in range(len(x)):\n",
    "    result.append(i)"
   ]
  },
  {
   "cell_type": "code",
   "execution_count": 80,
   "id": "7f09fb4d",
   "metadata": {},
   "outputs": [],
   "source": [
    "for i in range(len(x)-1):\n",
    "    \n",
    "    result[i] = x[i]*7 + y[i]*3 + z[i]*8"
   ]
  },
  {
   "cell_type": "code",
   "execution_count": 81,
   "id": "91a05034",
   "metadata": {},
   "outputs": [],
   "source": [
    "df[\"x\"] = x\n",
    "df[\"y\"] = y\n",
    "df[\"z\"] = z\n",
    "df[\"result\"] = result"
   ]
  },
  {
   "cell_type": "code",
   "execution_count": 82,
   "id": "e8aa6101",
   "metadata": {},
   "outputs": [
    {
     "data": {
      "text/html": [
       "<div>\n",
       "<style scoped>\n",
       "    .dataframe tbody tr th:only-of-type {\n",
       "        vertical-align: middle;\n",
       "    }\n",
       "\n",
       "    .dataframe tbody tr th {\n",
       "        vertical-align: top;\n",
       "    }\n",
       "\n",
       "    .dataframe thead th {\n",
       "        text-align: right;\n",
       "    }\n",
       "</style>\n",
       "<table border=\"1\" class=\"dataframe\">\n",
       "  <thead>\n",
       "    <tr style=\"text-align: right;\">\n",
       "      <th></th>\n",
       "      <th>x</th>\n",
       "      <th>y</th>\n",
       "      <th>z</th>\n",
       "      <th>result</th>\n",
       "    </tr>\n",
       "  </thead>\n",
       "  <tbody>\n",
       "    <tr>\n",
       "      <th>0</th>\n",
       "      <td>83</td>\n",
       "      <td>81</td>\n",
       "      <td>28</td>\n",
       "      <td>1048</td>\n",
       "    </tr>\n",
       "    <tr>\n",
       "      <th>1</th>\n",
       "      <td>46</td>\n",
       "      <td>83</td>\n",
       "      <td>95</td>\n",
       "      <td>1331</td>\n",
       "    </tr>\n",
       "    <tr>\n",
       "      <th>2</th>\n",
       "      <td>45</td>\n",
       "      <td>93</td>\n",
       "      <td>51</td>\n",
       "      <td>1002</td>\n",
       "    </tr>\n",
       "    <tr>\n",
       "      <th>3</th>\n",
       "      <td>37</td>\n",
       "      <td>88</td>\n",
       "      <td>70</td>\n",
       "      <td>1083</td>\n",
       "    </tr>\n",
       "    <tr>\n",
       "      <th>4</th>\n",
       "      <td>56</td>\n",
       "      <td>85</td>\n",
       "      <td>28</td>\n",
       "      <td>871</td>\n",
       "    </tr>\n",
       "    <tr>\n",
       "      <th>...</th>\n",
       "      <td>...</td>\n",
       "      <td>...</td>\n",
       "      <td>...</td>\n",
       "      <td>...</td>\n",
       "    </tr>\n",
       "    <tr>\n",
       "      <th>1245</th>\n",
       "      <td>80</td>\n",
       "      <td>68</td>\n",
       "      <td>7</td>\n",
       "      <td>820</td>\n",
       "    </tr>\n",
       "    <tr>\n",
       "      <th>1246</th>\n",
       "      <td>60</td>\n",
       "      <td>38</td>\n",
       "      <td>79</td>\n",
       "      <td>1166</td>\n",
       "    </tr>\n",
       "    <tr>\n",
       "      <th>1247</th>\n",
       "      <td>23</td>\n",
       "      <td>48</td>\n",
       "      <td>70</td>\n",
       "      <td>865</td>\n",
       "    </tr>\n",
       "    <tr>\n",
       "      <th>1248</th>\n",
       "      <td>39</td>\n",
       "      <td>53</td>\n",
       "      <td>12</td>\n",
       "      <td>528</td>\n",
       "    </tr>\n",
       "    <tr>\n",
       "      <th>1249</th>\n",
       "      <td>17</td>\n",
       "      <td>72</td>\n",
       "      <td>70</td>\n",
       "      <td>1249</td>\n",
       "    </tr>\n",
       "  </tbody>\n",
       "</table>\n",
       "<p>1250 rows × 4 columns</p>\n",
       "</div>"
      ],
      "text/plain": [
       "       x   y   z  result\n",
       "0     83  81  28    1048\n",
       "1     46  83  95    1331\n",
       "2     45  93  51    1002\n",
       "3     37  88  70    1083\n",
       "4     56  85  28     871\n",
       "...   ..  ..  ..     ...\n",
       "1245  80  68   7     820\n",
       "1246  60  38  79    1166\n",
       "1247  23  48  70     865\n",
       "1248  39  53  12     528\n",
       "1249  17  72  70    1249\n",
       "\n",
       "[1250 rows x 4 columns]"
      ]
     },
     "execution_count": 82,
     "metadata": {},
     "output_type": "execute_result"
    }
   ],
   "source": [
    "df"
   ]
  },
  {
   "cell_type": "code",
   "execution_count": 83,
   "id": "a89c0aea",
   "metadata": {},
   "outputs": [],
   "source": [
    "from sklearn.model_selection import train_test_split\n",
    "from sklearn.linear_model import LinearRegression"
   ]
  },
  {
   "cell_type": "code",
   "execution_count": 84,
   "id": "919a0182",
   "metadata": {},
   "outputs": [],
   "source": [
    "X = df[['x', 'y', 'z']]\n",
    "y = df['result']"
   ]
  },
  {
   "cell_type": "code",
   "execution_count": 85,
   "id": "466a807b",
   "metadata": {},
   "outputs": [],
   "source": [
    "X_train, X_test, y_train, y_test=train_test_split(X,y,test_size=0.1,random_state=13) #train_size=0.8"
   ]
  },
  {
   "cell_type": "code",
   "execution_count": 86,
   "id": "b665530d",
   "metadata": {},
   "outputs": [],
   "source": [
    "lr=LinearRegression()\n",
    "regmodel=lr.fit(X_train, y_train)"
   ]
  },
  {
   "cell_type": "code",
   "execution_count": 87,
   "id": "ec89e28f",
   "metadata": {},
   "outputs": [],
   "source": [
    "from sklearn.metrics import mean_squared_error,r2_score"
   ]
  },
  {
   "cell_type": "code",
   "execution_count": 88,
   "id": "fce4b915",
   "metadata": {},
   "outputs": [],
   "source": [
    "y_pretest=lr.predict(X_test)"
   ]
  },
  {
   "cell_type": "code",
   "execution_count": 89,
   "id": "fbe4490c",
   "metadata": {},
   "outputs": [
    {
     "data": {
      "text/plain": [
       "0.9999968740406303"
      ]
     },
     "execution_count": 89,
     "metadata": {},
     "output_type": "execute_result"
    }
   ],
   "source": [
    "r2_score(y_test,y_pretest)"
   ]
  },
  {
   "cell_type": "code",
   "execution_count": 90,
   "id": "a0bfe598",
   "metadata": {},
   "outputs": [],
   "source": [
    "deneme = pd.DataFrame()"
   ]
  },
  {
   "cell_type": "code",
   "execution_count": 91,
   "id": "0c4f6c38",
   "metadata": {},
   "outputs": [],
   "source": [
    "x = 10\n",
    "y = 5\n",
    "z = 1"
   ]
  },
  {
   "cell_type": "code",
   "execution_count": 92,
   "id": "6c934620",
   "metadata": {},
   "outputs": [],
   "source": [
    "deneme['x'] = [10]\n",
    "deneme['y'] = [1]\n",
    "deneme['z'] = [1]"
   ]
  },
  {
   "cell_type": "code",
   "execution_count": 93,
   "id": "ef301b12",
   "metadata": {},
   "outputs": [
    {
     "data": {
      "text/plain": [
       "array([6.98728798, 3.00741166, 8.0067653 ])"
      ]
     },
     "execution_count": 93,
     "metadata": {},
     "output_type": "execute_result"
    }
   ],
   "source": [
    "lr.coef_"
   ]
  },
  {
   "cell_type": "code",
   "execution_count": 94,
   "id": "6723448b",
   "metadata": {},
   "outputs": [
    {
     "data": {
      "text/plain": [
       "array([81.10231862])"
      ]
     },
     "execution_count": 94,
     "metadata": {},
     "output_type": "execute_result"
    }
   ],
   "source": [
    "lr.predict(deneme)"
   ]
  },
  {
   "cell_type": "markdown",
   "id": "3108bf50",
   "metadata": {},
   "source": [
    "# Testing on Real Life Application"
   ]
  },
  {
   "cell_type": "markdown",
   "id": "12c4bf45",
   "metadata": {},
   "source": [
    "Let's say there is a maze and that maze has no fork in the road, and we have a car that has 3 distance sensors. That sensors evaluate right, left, and front obstacle's distance. We can record that distances when deciding which way to turn. "
   ]
  },
  {
   "cell_type": "markdown",
   "id": "fb3989f6",
   "metadata": {},
   "source": [
    "<img src=\"roadmap.png\">"
   ]
  },
  {
   "cell_type": "markdown",
   "id": "65b7eb48",
   "metadata": {},
   "source": [
    "<img src=\"real.jpg\">"
   ]
  },
  {
   "cell_type": "markdown",
   "id": "3fae3a86",
   "metadata": {},
   "source": [
    "This is a sensor that evaluates distance between car and obstacle"
   ]
  },
  {
   "cell_type": "markdown",
   "id": "86af2ca4",
   "metadata": {},
   "source": [
    "<img src=\"hcsr04.PNG\">"
   ]
  },
  {
   "cell_type": "code",
   "execution_count": 95,
   "id": "1240f6b1",
   "metadata": {},
   "outputs": [],
   "source": [
    "df2 = pd.DataFrame()"
   ]
  },
  {
   "cell_type": "code",
   "execution_count": 96,
   "id": "afd90dd9",
   "metadata": {},
   "outputs": [],
   "source": [
    "right_sensor = np.random.randint(1,255,1500)\n",
    "left_sensor = np.random.randint(1,255,1500)\n",
    "front_sensor  = np.random.randint(1,255,1500)\n",
    "direction=[]"
   ]
  },
  {
   "cell_type": "code",
   "execution_count": 97,
   "id": "1b5b5ab0",
   "metadata": {},
   "outputs": [],
   "source": [
    "for i in range(len(right_sensor)):\n",
    "    direction.append(i)"
   ]
  },
  {
   "cell_type": "code",
   "execution_count": 98,
   "id": "8e736919",
   "metadata": {},
   "outputs": [],
   "source": [
    "for i in range(len(right_sensor)):\n",
    "    \n",
    "    if front_sensor[i]<100:\n",
    "        \n",
    "        if 3*right_sensor[i] < left_sensor[i]:\n",
    "            \n",
    "            direction[i] = \"LEFT\"\n",
    "            \n",
    "        elif 3*left_sensor[i] < right_sensor[i]:\n",
    "            \n",
    "            direction[i] = \"RIGHT\"\n",
    "        else:\n",
    "            direction[i] = \"STRAIGHT\"\n",
    "    else:\n",
    "        \n",
    "        direction[i] = \"STRAIGHT\""
   ]
  },
  {
   "cell_type": "code",
   "execution_count": 99,
   "id": "70a04cb2",
   "metadata": {},
   "outputs": [],
   "source": [
    "df2['right_sensor'] = right_sensor\n",
    "df2['left_sensor'] = left_sensor\n",
    "df2['front_sensor'] = front_sensor\n",
    "df2['direction'] = direction"
   ]
  },
  {
   "cell_type": "code",
   "execution_count": 100,
   "id": "b4cd4dbf",
   "metadata": {},
   "outputs": [
    {
     "data": {
      "text/html": [
       "<div>\n",
       "<style scoped>\n",
       "    .dataframe tbody tr th:only-of-type {\n",
       "        vertical-align: middle;\n",
       "    }\n",
       "\n",
       "    .dataframe tbody tr th {\n",
       "        vertical-align: top;\n",
       "    }\n",
       "\n",
       "    .dataframe thead th {\n",
       "        text-align: right;\n",
       "    }\n",
       "</style>\n",
       "<table border=\"1\" class=\"dataframe\">\n",
       "  <thead>\n",
       "    <tr style=\"text-align: right;\">\n",
       "      <th></th>\n",
       "      <th>right_sensor</th>\n",
       "      <th>left_sensor</th>\n",
       "      <th>front_sensor</th>\n",
       "      <th>direction</th>\n",
       "    </tr>\n",
       "  </thead>\n",
       "  <tbody>\n",
       "    <tr>\n",
       "      <th>0</th>\n",
       "      <td>213</td>\n",
       "      <td>170</td>\n",
       "      <td>134</td>\n",
       "      <td>STRAIGHT</td>\n",
       "    </tr>\n",
       "    <tr>\n",
       "      <th>1</th>\n",
       "      <td>98</td>\n",
       "      <td>142</td>\n",
       "      <td>150</td>\n",
       "      <td>STRAIGHT</td>\n",
       "    </tr>\n",
       "    <tr>\n",
       "      <th>2</th>\n",
       "      <td>245</td>\n",
       "      <td>4</td>\n",
       "      <td>14</td>\n",
       "      <td>RIGHT</td>\n",
       "    </tr>\n",
       "    <tr>\n",
       "      <th>3</th>\n",
       "      <td>227</td>\n",
       "      <td>1</td>\n",
       "      <td>174</td>\n",
       "      <td>STRAIGHT</td>\n",
       "    </tr>\n",
       "    <tr>\n",
       "      <th>4</th>\n",
       "      <td>198</td>\n",
       "      <td>34</td>\n",
       "      <td>144</td>\n",
       "      <td>STRAIGHT</td>\n",
       "    </tr>\n",
       "    <tr>\n",
       "      <th>...</th>\n",
       "      <td>...</td>\n",
       "      <td>...</td>\n",
       "      <td>...</td>\n",
       "      <td>...</td>\n",
       "    </tr>\n",
       "    <tr>\n",
       "      <th>1495</th>\n",
       "      <td>238</td>\n",
       "      <td>244</td>\n",
       "      <td>49</td>\n",
       "      <td>STRAIGHT</td>\n",
       "    </tr>\n",
       "    <tr>\n",
       "      <th>1496</th>\n",
       "      <td>238</td>\n",
       "      <td>155</td>\n",
       "      <td>155</td>\n",
       "      <td>STRAIGHT</td>\n",
       "    </tr>\n",
       "    <tr>\n",
       "      <th>1497</th>\n",
       "      <td>82</td>\n",
       "      <td>55</td>\n",
       "      <td>228</td>\n",
       "      <td>STRAIGHT</td>\n",
       "    </tr>\n",
       "    <tr>\n",
       "      <th>1498</th>\n",
       "      <td>244</td>\n",
       "      <td>155</td>\n",
       "      <td>77</td>\n",
       "      <td>STRAIGHT</td>\n",
       "    </tr>\n",
       "    <tr>\n",
       "      <th>1499</th>\n",
       "      <td>232</td>\n",
       "      <td>36</td>\n",
       "      <td>79</td>\n",
       "      <td>RIGHT</td>\n",
       "    </tr>\n",
       "  </tbody>\n",
       "</table>\n",
       "<p>1500 rows × 4 columns</p>\n",
       "</div>"
      ],
      "text/plain": [
       "      right_sensor  left_sensor  front_sensor direction\n",
       "0              213          170           134  STRAIGHT\n",
       "1               98          142           150  STRAIGHT\n",
       "2              245            4            14     RIGHT\n",
       "3              227            1           174  STRAIGHT\n",
       "4              198           34           144  STRAIGHT\n",
       "...            ...          ...           ...       ...\n",
       "1495           238          244            49  STRAIGHT\n",
       "1496           238          155           155  STRAIGHT\n",
       "1497            82           55           228  STRAIGHT\n",
       "1498           244          155            77  STRAIGHT\n",
       "1499           232           36            79     RIGHT\n",
       "\n",
       "[1500 rows x 4 columns]"
      ]
     },
     "execution_count": 100,
     "metadata": {},
     "output_type": "execute_result"
    }
   ],
   "source": [
    "df2"
   ]
  },
  {
   "cell_type": "code",
   "execution_count": 101,
   "id": "2faef299",
   "metadata": {},
   "outputs": [],
   "source": [
    "from sklearn.naive_bayes import MultinomialNB\n",
    "from sklearn.naive_bayes import BernoulliNB\n",
    "from sklearn.naive_bayes import GaussianNB\n",
    "from sklearn.metrics import accuracy_score"
   ]
  },
  {
   "cell_type": "code",
   "execution_count": 102,
   "id": "eae6ea35",
   "metadata": {},
   "outputs": [],
   "source": [
    "Xdf2 = df2[['right_sensor', 'left_sensor', 'front_sensor']]\n",
    "ydf2 = df2['direction']"
   ]
  },
  {
   "cell_type": "code",
   "execution_count": 103,
   "id": "d939205f",
   "metadata": {},
   "outputs": [],
   "source": [
    "x_train,x_test,y_train,y_test=train_test_split(Xdf2, ydf2, random_state=80)"
   ]
  },
  {
   "cell_type": "code",
   "execution_count": 104,
   "id": "d5cdad85",
   "metadata": {},
   "outputs": [
    {
     "data": {
      "text/html": [
       "<div>\n",
       "<style scoped>\n",
       "    .dataframe tbody tr th:only-of-type {\n",
       "        vertical-align: middle;\n",
       "    }\n",
       "\n",
       "    .dataframe tbody tr th {\n",
       "        vertical-align: top;\n",
       "    }\n",
       "\n",
       "    .dataframe thead th {\n",
       "        text-align: right;\n",
       "    }\n",
       "</style>\n",
       "<table border=\"1\" class=\"dataframe\">\n",
       "  <thead>\n",
       "    <tr style=\"text-align: right;\">\n",
       "      <th></th>\n",
       "      <th>right_sensor</th>\n",
       "      <th>left_sensor</th>\n",
       "      <th>front_sensor</th>\n",
       "    </tr>\n",
       "  </thead>\n",
       "  <tbody>\n",
       "    <tr>\n",
       "      <th>919</th>\n",
       "      <td>80</td>\n",
       "      <td>226</td>\n",
       "      <td>54</td>\n",
       "    </tr>\n",
       "    <tr>\n",
       "      <th>1227</th>\n",
       "      <td>215</td>\n",
       "      <td>195</td>\n",
       "      <td>183</td>\n",
       "    </tr>\n",
       "    <tr>\n",
       "      <th>992</th>\n",
       "      <td>211</td>\n",
       "      <td>56</td>\n",
       "      <td>231</td>\n",
       "    </tr>\n",
       "    <tr>\n",
       "      <th>48</th>\n",
       "      <td>225</td>\n",
       "      <td>152</td>\n",
       "      <td>133</td>\n",
       "    </tr>\n",
       "    <tr>\n",
       "      <th>735</th>\n",
       "      <td>163</td>\n",
       "      <td>196</td>\n",
       "      <td>11</td>\n",
       "    </tr>\n",
       "    <tr>\n",
       "      <th>...</th>\n",
       "      <td>...</td>\n",
       "      <td>...</td>\n",
       "      <td>...</td>\n",
       "    </tr>\n",
       "    <tr>\n",
       "      <th>522</th>\n",
       "      <td>150</td>\n",
       "      <td>10</td>\n",
       "      <td>102</td>\n",
       "    </tr>\n",
       "    <tr>\n",
       "      <th>211</th>\n",
       "      <td>197</td>\n",
       "      <td>216</td>\n",
       "      <td>76</td>\n",
       "    </tr>\n",
       "    <tr>\n",
       "      <th>934</th>\n",
       "      <td>30</td>\n",
       "      <td>148</td>\n",
       "      <td>37</td>\n",
       "    </tr>\n",
       "    <tr>\n",
       "      <th>1212</th>\n",
       "      <td>185</td>\n",
       "      <td>242</td>\n",
       "      <td>110</td>\n",
       "    </tr>\n",
       "    <tr>\n",
       "      <th>1199</th>\n",
       "      <td>239</td>\n",
       "      <td>157</td>\n",
       "      <td>153</td>\n",
       "    </tr>\n",
       "  </tbody>\n",
       "</table>\n",
       "<p>1125 rows × 3 columns</p>\n",
       "</div>"
      ],
      "text/plain": [
       "      right_sensor  left_sensor  front_sensor\n",
       "919             80          226            54\n",
       "1227           215          195           183\n",
       "992            211           56           231\n",
       "48             225          152           133\n",
       "735            163          196            11\n",
       "...            ...          ...           ...\n",
       "522            150           10           102\n",
       "211            197          216            76\n",
       "934             30          148            37\n",
       "1212           185          242           110\n",
       "1199           239          157           153\n",
       "\n",
       "[1125 rows x 3 columns]"
      ]
     },
     "execution_count": 104,
     "metadata": {},
     "output_type": "execute_result"
    }
   ],
   "source": [
    "x_train"
   ]
  },
  {
   "cell_type": "code",
   "execution_count": 105,
   "id": "221148c5",
   "metadata": {},
   "outputs": [
    {
     "data": {
      "text/plain": [
       "919     STRAIGHT\n",
       "1227    STRAIGHT\n",
       "992     STRAIGHT\n",
       "48      STRAIGHT\n",
       "735     STRAIGHT\n",
       "          ...   \n",
       "522     STRAIGHT\n",
       "211     STRAIGHT\n",
       "934         LEFT\n",
       "1212    STRAIGHT\n",
       "1199    STRAIGHT\n",
       "Name: direction, Length: 1125, dtype: object"
      ]
     },
     "execution_count": 105,
     "metadata": {},
     "output_type": "execute_result"
    }
   ],
   "source": [
    "y_train"
   ]
  },
  {
   "cell_type": "code",
   "execution_count": 106,
   "id": "308e3488",
   "metadata": {},
   "outputs": [],
   "source": [
    "b=MultinomialNB()\n",
    "model=b.fit(x_train, y_train)\n",
    "b_predict=b.predict(x_test)"
   ]
  },
  {
   "cell_type": "code",
   "execution_count": 113,
   "id": "f3857855",
   "metadata": {},
   "outputs": [
    {
     "name": "stderr",
     "output_type": "stream",
     "text": [
      "C:\\ProgramData\\Anaconda3\\lib\\site-packages\\sklearn\\utils\\deprecation.py:101: FutureWarning: Attribute coef_ was deprecated in version 0.24 and will be removed in 1.1 (renaming of 0.26).\n",
      "  warnings.warn(msg, category=FutureWarning)\n"
     ]
    },
    {
     "data": {
      "text/plain": [
       "array([[-2.13448446, -0.3934495 , -1.57518604],\n",
       "       [-0.33534378, -2.20080645, -1.74758593],\n",
       "       [-1.13329034, -1.09578764, -1.06783577]])"
      ]
     },
     "execution_count": 113,
     "metadata": {},
     "output_type": "execute_result"
    }
   ],
   "source": [
    "b.coef_"
   ]
  },
  {
   "cell_type": "code",
   "execution_count": 107,
   "id": "33c9cf83",
   "metadata": {},
   "outputs": [
    {
     "data": {
      "text/plain": [
       "0.816"
      ]
     },
     "execution_count": 107,
     "metadata": {},
     "output_type": "execute_result"
    }
   ],
   "source": [
    "accuracy_score(y_test,b_predict)"
   ]
  },
  {
   "cell_type": "code",
   "execution_count": 108,
   "id": "abf4b2ac",
   "metadata": {},
   "outputs": [],
   "source": [
    "temp = pd.DataFrame()"
   ]
  },
  {
   "cell_type": "code",
   "execution_count": 111,
   "id": "3ad43076",
   "metadata": {},
   "outputs": [],
   "source": [
    "temp['right_sensor'] = [180]\n",
    "temp['left_sensor'] = [10]\n",
    "temp['front_sensor'] = [20]"
   ]
  },
  {
   "cell_type": "code",
   "execution_count": 112,
   "id": "e521f24f",
   "metadata": {},
   "outputs": [
    {
     "data": {
      "text/plain": [
       "array(['RIGHT'], dtype='<U8')"
      ]
     },
     "execution_count": 112,
     "metadata": {},
     "output_type": "execute_result"
    }
   ],
   "source": [
    "b.predict(temp)"
   ]
  }
 ],
 "metadata": {
  "kernelspec": {
   "display_name": "Python 3 (ipykernel)",
   "language": "python",
   "name": "python3"
  },
  "language_info": {
   "codemirror_mode": {
    "name": "ipython",
    "version": 3
   },
   "file_extension": ".py",
   "mimetype": "text/x-python",
   "name": "python",
   "nbconvert_exporter": "python",
   "pygments_lexer": "ipython3",
   "version": "3.9.7"
  }
 },
 "nbformat": 4,
 "nbformat_minor": 5
}
