{
 "cells": [
  {
   "cell_type": "markdown",
   "id": "9399f5a5",
   "metadata": {},
   "source": [
    "# <center>How Machine Learning Works Simply</center>\n",
    "#### <center>Author : Erhan Namlı</center>"
   ]
  },
  {
   "cell_type": "markdown",
   "id": "e3dedcdb",
   "metadata": {},
   "source": [
    "# <span style=\"text-align:center\">Introduction</span>"
   ]
  },
  {
   "cell_type": "markdown",
   "id": "b0c4fbe6",
   "metadata": {},
   "source": [
    "Greetings, I created this document to show how you can use ML easily about any topic."
   ]
  },
  {
   "cell_type": "markdown",
   "id": "a0a12546",
   "metadata": {},
   "source": [
    "# Setup"
   ]
  },
  {
   "cell_type": "code",
   "execution_count": 1,
   "id": "c37c0850",
   "metadata": {},
   "outputs": [],
   "source": [
    "import numpy as np"
   ]
  },
  {
   "cell_type": "code",
   "execution_count": 2,
   "id": "e71edd28",
   "metadata": {},
   "outputs": [],
   "source": [
    "import pandas as pd"
   ]
  },
  {
   "cell_type": "code",
   "execution_count": 3,
   "id": "32fdef83",
   "metadata": {},
   "outputs": [],
   "source": [
    "df = pd.DataFrame()"
   ]
  },
  {
   "cell_type": "markdown",
   "id": "321d14cb",
   "metadata": {},
   "source": [
    "Let's create an original dataset, but this dataset must be sensible because of the health of our model."
   ]
  },
  {
   "cell_type": "markdown",
   "id": "de456562",
   "metadata": {},
   "source": [
    "## Creating a random dataset"
   ]
  },
  {
   "cell_type": "markdown",
   "id": "0fbd3cc9",
   "metadata": {},
   "source": [
    "<img src=\"equation.PNG\">"
   ]
  },
  {
   "cell_type": "markdown",
   "id": "34970469",
   "metadata": {},
   "source": [
    "x = 10k, y=5k, z=1k\n",
    "\n",
    "The purpose of our model is to estimate these coefficients and then produce the appropriate result for the parameters given to it."
   ]
  },
  {
   "cell_type": "code",
   "execution_count": 4,
   "id": "adbcfb86",
   "metadata": {},
   "outputs": [],
   "source": [
    "x = np.random.randint(1,101,1250)\n",
    "y = np.random.randint(1,101,1250)\n",
    "z = np.random.randint(1,101,1250)\n",
    "result=[]"
   ]
  },
  {
   "cell_type": "code",
   "execution_count": 5,
   "id": "1aa6eb51",
   "metadata": {},
   "outputs": [],
   "source": [
    "for i in range(len(x)):\n",
    "    result.append(i)"
   ]
  },
  {
   "cell_type": "code",
   "execution_count": 6,
   "id": "7f09fb4d",
   "metadata": {},
   "outputs": [],
   "source": [
    "for i in range(len(x)-1):\n",
    "    \n",
    "    result[i] = x[i]*10 + y[i]*5 + z[i]*1"
   ]
  },
  {
   "cell_type": "code",
   "execution_count": 7,
   "id": "91a05034",
   "metadata": {},
   "outputs": [],
   "source": [
    "df[\"x\"] = x\n",
    "df[\"y\"] = y\n",
    "df[\"z\"] = z\n",
    "df[\"result\"] = result"
   ]
  },
  {
   "cell_type": "code",
   "execution_count": 8,
   "id": "e8aa6101",
   "metadata": {},
   "outputs": [
    {
     "data": {
      "text/html": [
       "<div>\n",
       "<style scoped>\n",
       "    .dataframe tbody tr th:only-of-type {\n",
       "        vertical-align: middle;\n",
       "    }\n",
       "\n",
       "    .dataframe tbody tr th {\n",
       "        vertical-align: top;\n",
       "    }\n",
       "\n",
       "    .dataframe thead th {\n",
       "        text-align: right;\n",
       "    }\n",
       "</style>\n",
       "<table border=\"1\" class=\"dataframe\">\n",
       "  <thead>\n",
       "    <tr style=\"text-align: right;\">\n",
       "      <th></th>\n",
       "      <th>x</th>\n",
       "      <th>y</th>\n",
       "      <th>z</th>\n",
       "      <th>result</th>\n",
       "    </tr>\n",
       "  </thead>\n",
       "  <tbody>\n",
       "    <tr>\n",
       "      <th>0</th>\n",
       "      <td>48</td>\n",
       "      <td>57</td>\n",
       "      <td>44</td>\n",
       "      <td>809</td>\n",
       "    </tr>\n",
       "    <tr>\n",
       "      <th>1</th>\n",
       "      <td>78</td>\n",
       "      <td>37</td>\n",
       "      <td>87</td>\n",
       "      <td>1052</td>\n",
       "    </tr>\n",
       "    <tr>\n",
       "      <th>2</th>\n",
       "      <td>78</td>\n",
       "      <td>29</td>\n",
       "      <td>22</td>\n",
       "      <td>947</td>\n",
       "    </tr>\n",
       "    <tr>\n",
       "      <th>3</th>\n",
       "      <td>91</td>\n",
       "      <td>20</td>\n",
       "      <td>75</td>\n",
       "      <td>1085</td>\n",
       "    </tr>\n",
       "    <tr>\n",
       "      <th>4</th>\n",
       "      <td>12</td>\n",
       "      <td>23</td>\n",
       "      <td>32</td>\n",
       "      <td>267</td>\n",
       "    </tr>\n",
       "    <tr>\n",
       "      <th>...</th>\n",
       "      <td>...</td>\n",
       "      <td>...</td>\n",
       "      <td>...</td>\n",
       "      <td>...</td>\n",
       "    </tr>\n",
       "    <tr>\n",
       "      <th>1245</th>\n",
       "      <td>100</td>\n",
       "      <td>12</td>\n",
       "      <td>99</td>\n",
       "      <td>1159</td>\n",
       "    </tr>\n",
       "    <tr>\n",
       "      <th>1246</th>\n",
       "      <td>61</td>\n",
       "      <td>59</td>\n",
       "      <td>14</td>\n",
       "      <td>919</td>\n",
       "    </tr>\n",
       "    <tr>\n",
       "      <th>1247</th>\n",
       "      <td>37</td>\n",
       "      <td>67</td>\n",
       "      <td>11</td>\n",
       "      <td>716</td>\n",
       "    </tr>\n",
       "    <tr>\n",
       "      <th>1248</th>\n",
       "      <td>30</td>\n",
       "      <td>57</td>\n",
       "      <td>11</td>\n",
       "      <td>596</td>\n",
       "    </tr>\n",
       "    <tr>\n",
       "      <th>1249</th>\n",
       "      <td>3</td>\n",
       "      <td>27</td>\n",
       "      <td>64</td>\n",
       "      <td>1249</td>\n",
       "    </tr>\n",
       "  </tbody>\n",
       "</table>\n",
       "<p>1250 rows × 4 columns</p>\n",
       "</div>"
      ],
      "text/plain": [
       "        x   y   z  result\n",
       "0      48  57  44     809\n",
       "1      78  37  87    1052\n",
       "2      78  29  22     947\n",
       "3      91  20  75    1085\n",
       "4      12  23  32     267\n",
       "...   ...  ..  ..     ...\n",
       "1245  100  12  99    1159\n",
       "1246   61  59  14     919\n",
       "1247   37  67  11     716\n",
       "1248   30  57  11     596\n",
       "1249    3  27  64    1249\n",
       "\n",
       "[1250 rows x 4 columns]"
      ]
     },
     "execution_count": 8,
     "metadata": {},
     "output_type": "execute_result"
    }
   ],
   "source": [
    "df"
   ]
  },
  {
   "cell_type": "code",
   "execution_count": 9,
   "id": "a89c0aea",
   "metadata": {},
   "outputs": [],
   "source": [
    "from sklearn.model_selection import train_test_split\n",
    "from sklearn.linear_model import LinearRegression"
   ]
  },
  {
   "cell_type": "code",
   "execution_count": 10,
   "id": "919a0182",
   "metadata": {},
   "outputs": [],
   "source": [
    "X = df[['x', 'y', 'z']]\n",
    "y = df['result']"
   ]
  },
  {
   "cell_type": "code",
   "execution_count": 11,
   "id": "466a807b",
   "metadata": {},
   "outputs": [],
   "source": [
    "X_train, X_test, y_train, y_test=train_test_split(X,y,test_size=0.1,random_state=13) #train_size=0.8"
   ]
  },
  {
   "cell_type": "code",
   "execution_count": 12,
   "id": "b665530d",
   "metadata": {},
   "outputs": [],
   "source": [
    "lr=LinearRegression()\n",
    "regmodel=lr.fit(X_train, y_train)"
   ]
  },
  {
   "cell_type": "code",
   "execution_count": 13,
   "id": "ec89e28f",
   "metadata": {},
   "outputs": [],
   "source": [
    "from sklearn.metrics import mean_squared_error,r2_score"
   ]
  },
  {
   "cell_type": "code",
   "execution_count": 14,
   "id": "fce4b915",
   "metadata": {},
   "outputs": [],
   "source": [
    "y_pretest=lr.predict(X_test)"
   ]
  },
  {
   "cell_type": "code",
   "execution_count": 15,
   "id": "fbe4490c",
   "metadata": {},
   "outputs": [
    {
     "data": {
      "text/plain": [
       "0.9999676121920273"
      ]
     },
     "execution_count": 15,
     "metadata": {},
     "output_type": "execute_result"
    }
   ],
   "source": [
    "r2_score(y_test,y_pretest)"
   ]
  },
  {
   "cell_type": "code",
   "execution_count": 16,
   "id": "a0bfe598",
   "metadata": {},
   "outputs": [],
   "source": [
    "deneme = pd.DataFrame()"
   ]
  },
  {
   "cell_type": "code",
   "execution_count": 17,
   "id": "6c934620",
   "metadata": {},
   "outputs": [],
   "source": [
    "deneme['x'] = [3]\n",
    "deneme['y'] = [2]\n",
    "deneme['z'] = [1]"
   ]
  },
  {
   "cell_type": "code",
   "execution_count": 18,
   "id": "6723448b",
   "metadata": {},
   "outputs": [
    {
     "data": {
      "text/plain": [
       "array([44.83282925])"
      ]
     },
     "execution_count": 18,
     "metadata": {},
     "output_type": "execute_result"
    }
   ],
   "source": [
    "lr.predict(deneme)"
   ]
  },
  {
   "cell_type": "markdown",
   "id": "3108bf50",
   "metadata": {},
   "source": [
    "# Testing on Real Life Application"
   ]
  },
  {
   "cell_type": "markdown",
   "id": "deffa2a2",
   "metadata": {},
   "source": [
    "Let's say there is a maze and that maze has no fork in the road, and we have a car that has 3 distance sensors. That sensors evaluate right, left, and front obstacle's distance. We can record that distances when deciding which way to turn. "
   ]
  },
  {
   "cell_type": "markdown",
   "id": "fb3989f6",
   "metadata": {},
   "source": [
    "<img src=\"roadmap.png\">"
   ]
  },
  {
   "cell_type": "markdown",
   "id": "2230cc83",
   "metadata": {},
   "source": [
    "This is a sensor that evaluates distance between car and obstacle"
   ]
  },
  {
   "cell_type": "markdown",
   "id": "86af2ca4",
   "metadata": {},
   "source": [
    "<img src=\"hcsr04.PNG\">"
   ]
  },
  {
   "cell_type": "code",
   "execution_count": 19,
   "id": "1240f6b1",
   "metadata": {},
   "outputs": [],
   "source": [
    "df2 = pd.DataFrame()"
   ]
  },
  {
   "cell_type": "code",
   "execution_count": 20,
   "id": "afd90dd9",
   "metadata": {},
   "outputs": [],
   "source": [
    "right_sensor = np.random.randint(1,255,1500)\n",
    "left_sensor = np.random.randint(1,255,1500)\n",
    "front_sensor  = np.random.randint(1,255,1500)\n",
    "direction=[]"
   ]
  },
  {
   "cell_type": "code",
   "execution_count": 21,
   "id": "1b5b5ab0",
   "metadata": {},
   "outputs": [],
   "source": [
    "for i in range(len(right_sensor)):\n",
    "    direction.append(i)"
   ]
  },
  {
   "cell_type": "code",
   "execution_count": 22,
   "id": "8e736919",
   "metadata": {},
   "outputs": [],
   "source": [
    "for i in range(len(right_sensor)):\n",
    "    \n",
    "    if front_sensor[i]<100:\n",
    "        \n",
    "        if 3*right_sensor[i] < left_sensor[i]:\n",
    "            \n",
    "            direction[i] = \"LEFT\"\n",
    "            \n",
    "        elif 3*left_sensor[i] < right_sensor[i]:\n",
    "            \n",
    "            direction[i] = \"RIGHT\"\n",
    "        else:\n",
    "            direction[i] = \"STRAIGHT\"\n",
    "    else:\n",
    "        \n",
    "        direction[i] = \"STRAIGHT\""
   ]
  },
  {
   "cell_type": "code",
   "execution_count": 23,
   "id": "70a04cb2",
   "metadata": {},
   "outputs": [],
   "source": [
    "df2['right_sensor'] = right_sensor\n",
    "df2['left_sensor'] = left_sensor\n",
    "df2['front_sensor'] = front_sensor\n",
    "df2['direction'] = direction"
   ]
  },
  {
   "cell_type": "code",
   "execution_count": 24,
   "id": "daa344b1",
   "metadata": {},
   "outputs": [
    {
     "data": {
      "text/html": [
       "<div>\n",
       "<style scoped>\n",
       "    .dataframe tbody tr th:only-of-type {\n",
       "        vertical-align: middle;\n",
       "    }\n",
       "\n",
       "    .dataframe tbody tr th {\n",
       "        vertical-align: top;\n",
       "    }\n",
       "\n",
       "    .dataframe thead th {\n",
       "        text-align: right;\n",
       "    }\n",
       "</style>\n",
       "<table border=\"1\" class=\"dataframe\">\n",
       "  <thead>\n",
       "    <tr style=\"text-align: right;\">\n",
       "      <th></th>\n",
       "      <th>right_sensor</th>\n",
       "      <th>left_sensor</th>\n",
       "      <th>front_sensor</th>\n",
       "      <th>direction</th>\n",
       "    </tr>\n",
       "  </thead>\n",
       "  <tbody>\n",
       "    <tr>\n",
       "      <th>0</th>\n",
       "      <td>16</td>\n",
       "      <td>144</td>\n",
       "      <td>204</td>\n",
       "      <td>STRAIGHT</td>\n",
       "    </tr>\n",
       "    <tr>\n",
       "      <th>1</th>\n",
       "      <td>156</td>\n",
       "      <td>245</td>\n",
       "      <td>33</td>\n",
       "      <td>STRAIGHT</td>\n",
       "    </tr>\n",
       "    <tr>\n",
       "      <th>2</th>\n",
       "      <td>174</td>\n",
       "      <td>190</td>\n",
       "      <td>128</td>\n",
       "      <td>STRAIGHT</td>\n",
       "    </tr>\n",
       "    <tr>\n",
       "      <th>3</th>\n",
       "      <td>137</td>\n",
       "      <td>148</td>\n",
       "      <td>133</td>\n",
       "      <td>STRAIGHT</td>\n",
       "    </tr>\n",
       "    <tr>\n",
       "      <th>4</th>\n",
       "      <td>233</td>\n",
       "      <td>213</td>\n",
       "      <td>118</td>\n",
       "      <td>STRAIGHT</td>\n",
       "    </tr>\n",
       "    <tr>\n",
       "      <th>...</th>\n",
       "      <td>...</td>\n",
       "      <td>...</td>\n",
       "      <td>...</td>\n",
       "      <td>...</td>\n",
       "    </tr>\n",
       "    <tr>\n",
       "      <th>1495</th>\n",
       "      <td>216</td>\n",
       "      <td>70</td>\n",
       "      <td>19</td>\n",
       "      <td>RIGHT</td>\n",
       "    </tr>\n",
       "    <tr>\n",
       "      <th>1496</th>\n",
       "      <td>251</td>\n",
       "      <td>35</td>\n",
       "      <td>21</td>\n",
       "      <td>RIGHT</td>\n",
       "    </tr>\n",
       "    <tr>\n",
       "      <th>1497</th>\n",
       "      <td>36</td>\n",
       "      <td>64</td>\n",
       "      <td>183</td>\n",
       "      <td>STRAIGHT</td>\n",
       "    </tr>\n",
       "    <tr>\n",
       "      <th>1498</th>\n",
       "      <td>9</td>\n",
       "      <td>237</td>\n",
       "      <td>83</td>\n",
       "      <td>LEFT</td>\n",
       "    </tr>\n",
       "    <tr>\n",
       "      <th>1499</th>\n",
       "      <td>80</td>\n",
       "      <td>95</td>\n",
       "      <td>123</td>\n",
       "      <td>STRAIGHT</td>\n",
       "    </tr>\n",
       "  </tbody>\n",
       "</table>\n",
       "<p>1500 rows × 4 columns</p>\n",
       "</div>"
      ],
      "text/plain": [
       "      right_sensor  left_sensor  front_sensor direction\n",
       "0               16          144           204  STRAIGHT\n",
       "1              156          245            33  STRAIGHT\n",
       "2              174          190           128  STRAIGHT\n",
       "3              137          148           133  STRAIGHT\n",
       "4              233          213           118  STRAIGHT\n",
       "...            ...          ...           ...       ...\n",
       "1495           216           70            19     RIGHT\n",
       "1496           251           35            21     RIGHT\n",
       "1497            36           64           183  STRAIGHT\n",
       "1498             9          237            83      LEFT\n",
       "1499            80           95           123  STRAIGHT\n",
       "\n",
       "[1500 rows x 4 columns]"
      ]
     },
     "execution_count": 24,
     "metadata": {},
     "output_type": "execute_result"
    }
   ],
   "source": [
    "df2"
   ]
  },
  {
   "cell_type": "code",
   "execution_count": 25,
   "id": "2faef299",
   "metadata": {},
   "outputs": [],
   "source": [
    "from sklearn.naive_bayes import MultinomialNB\n",
    "from sklearn.naive_bayes import BernoulliNB\n",
    "from sklearn.naive_bayes import GaussianNB\n",
    "from sklearn.metrics import accuracy_score"
   ]
  },
  {
   "cell_type": "code",
   "execution_count": 26,
   "id": "eae6ea35",
   "metadata": {},
   "outputs": [],
   "source": [
    "Xdf2 = df2[['right_sensor', 'left_sensor', 'front_sensor']]\n",
    "ydf2 = df2['direction']"
   ]
  },
  {
   "cell_type": "code",
   "execution_count": 27,
   "id": "d939205f",
   "metadata": {},
   "outputs": [],
   "source": [
    "x_train,x_test,y_train,y_test=train_test_split(Xdf2, ydf2, random_state=80)"
   ]
  },
  {
   "cell_type": "code",
   "execution_count": 28,
   "id": "d5cdad85",
   "metadata": {},
   "outputs": [
    {
     "data": {
      "text/html": [
       "<div>\n",
       "<style scoped>\n",
       "    .dataframe tbody tr th:only-of-type {\n",
       "        vertical-align: middle;\n",
       "    }\n",
       "\n",
       "    .dataframe tbody tr th {\n",
       "        vertical-align: top;\n",
       "    }\n",
       "\n",
       "    .dataframe thead th {\n",
       "        text-align: right;\n",
       "    }\n",
       "</style>\n",
       "<table border=\"1\" class=\"dataframe\">\n",
       "  <thead>\n",
       "    <tr style=\"text-align: right;\">\n",
       "      <th></th>\n",
       "      <th>right_sensor</th>\n",
       "      <th>left_sensor</th>\n",
       "      <th>front_sensor</th>\n",
       "    </tr>\n",
       "  </thead>\n",
       "  <tbody>\n",
       "    <tr>\n",
       "      <th>919</th>\n",
       "      <td>166</td>\n",
       "      <td>201</td>\n",
       "      <td>140</td>\n",
       "    </tr>\n",
       "    <tr>\n",
       "      <th>1227</th>\n",
       "      <td>114</td>\n",
       "      <td>165</td>\n",
       "      <td>84</td>\n",
       "    </tr>\n",
       "    <tr>\n",
       "      <th>992</th>\n",
       "      <td>199</td>\n",
       "      <td>74</td>\n",
       "      <td>2</td>\n",
       "    </tr>\n",
       "    <tr>\n",
       "      <th>48</th>\n",
       "      <td>176</td>\n",
       "      <td>74</td>\n",
       "      <td>99</td>\n",
       "    </tr>\n",
       "    <tr>\n",
       "      <th>735</th>\n",
       "      <td>240</td>\n",
       "      <td>176</td>\n",
       "      <td>71</td>\n",
       "    </tr>\n",
       "    <tr>\n",
       "      <th>...</th>\n",
       "      <td>...</td>\n",
       "      <td>...</td>\n",
       "      <td>...</td>\n",
       "    </tr>\n",
       "    <tr>\n",
       "      <th>522</th>\n",
       "      <td>138</td>\n",
       "      <td>40</td>\n",
       "      <td>153</td>\n",
       "    </tr>\n",
       "    <tr>\n",
       "      <th>211</th>\n",
       "      <td>24</td>\n",
       "      <td>77</td>\n",
       "      <td>70</td>\n",
       "    </tr>\n",
       "    <tr>\n",
       "      <th>934</th>\n",
       "      <td>58</td>\n",
       "      <td>227</td>\n",
       "      <td>15</td>\n",
       "    </tr>\n",
       "    <tr>\n",
       "      <th>1212</th>\n",
       "      <td>184</td>\n",
       "      <td>155</td>\n",
       "      <td>144</td>\n",
       "    </tr>\n",
       "    <tr>\n",
       "      <th>1199</th>\n",
       "      <td>177</td>\n",
       "      <td>186</td>\n",
       "      <td>248</td>\n",
       "    </tr>\n",
       "  </tbody>\n",
       "</table>\n",
       "<p>1125 rows × 3 columns</p>\n",
       "</div>"
      ],
      "text/plain": [
       "      right_sensor  left_sensor  front_sensor\n",
       "919            166          201           140\n",
       "1227           114          165            84\n",
       "992            199           74             2\n",
       "48             176           74            99\n",
       "735            240          176            71\n",
       "...            ...          ...           ...\n",
       "522            138           40           153\n",
       "211             24           77            70\n",
       "934             58          227            15\n",
       "1212           184          155           144\n",
       "1199           177          186           248\n",
       "\n",
       "[1125 rows x 3 columns]"
      ]
     },
     "execution_count": 28,
     "metadata": {},
     "output_type": "execute_result"
    }
   ],
   "source": [
    "x_train"
   ]
  },
  {
   "cell_type": "code",
   "execution_count": 29,
   "id": "221148c5",
   "metadata": {},
   "outputs": [
    {
     "data": {
      "text/plain": [
       "919     STRAIGHT\n",
       "1227    STRAIGHT\n",
       "992     STRAIGHT\n",
       "48      STRAIGHT\n",
       "735     STRAIGHT\n",
       "          ...   \n",
       "522     STRAIGHT\n",
       "211         LEFT\n",
       "934         LEFT\n",
       "1212    STRAIGHT\n",
       "1199    STRAIGHT\n",
       "Name: direction, Length: 1125, dtype: object"
      ]
     },
     "execution_count": 29,
     "metadata": {},
     "output_type": "execute_result"
    }
   ],
   "source": [
    "y_train"
   ]
  },
  {
   "cell_type": "code",
   "execution_count": 30,
   "id": "308e3488",
   "metadata": {},
   "outputs": [],
   "source": [
    "b=MultinomialNB()\n",
    "model=b.fit(x_train, y_train)\n",
    "b_predict=b.predict(x_test)"
   ]
  },
  {
   "cell_type": "code",
   "execution_count": 31,
   "id": "33c9cf83",
   "metadata": {},
   "outputs": [
    {
     "data": {
      "text/plain": [
       "0.768"
      ]
     },
     "execution_count": 31,
     "metadata": {},
     "output_type": "execute_result"
    }
   ],
   "source": [
    "accuracy_score(y_test,b_predict)"
   ]
  },
  {
   "cell_type": "code",
   "execution_count": 32,
   "id": "abf4b2ac",
   "metadata": {},
   "outputs": [],
   "source": [
    "temp = pd.DataFrame()"
   ]
  },
  {
   "cell_type": "code",
   "execution_count": 33,
   "id": "3ad43076",
   "metadata": {},
   "outputs": [],
   "source": [
    "temp['right_sensor'] = [20]\n",
    "temp['left_sensor'] = [200]\n",
    "temp['front_sensor'] = [20]"
   ]
  },
  {
   "cell_type": "code",
   "execution_count": 34,
   "id": "e521f24f",
   "metadata": {},
   "outputs": [
    {
     "data": {
      "text/plain": [
       "array(['LEFT'], dtype='<U8')"
      ]
     },
     "execution_count": 34,
     "metadata": {},
     "output_type": "execute_result"
    }
   ],
   "source": [
    "b.predict(temp)"
   ]
  }
 ],
 "metadata": {
  "kernelspec": {
   "display_name": "Python 3 (ipykernel)",
   "language": "python",
   "name": "python3"
  },
  "language_info": {
   "codemirror_mode": {
    "name": "ipython",
    "version": 3
   },
   "file_extension": ".py",
   "mimetype": "text/x-python",
   "name": "python",
   "nbconvert_exporter": "python",
   "pygments_lexer": "ipython3",
   "version": "3.9.7"
  }
 },
 "nbformat": 4,
 "nbformat_minor": 5
}
